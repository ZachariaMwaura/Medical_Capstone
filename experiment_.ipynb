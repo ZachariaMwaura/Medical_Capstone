{
 "cells": [
  {
   "cell_type": "markdown",
   "metadata": {},
   "source": [
    "### Experiment: "
   ]
  },
  {
   "cell_type": "markdown",
   "metadata": {},
   "source": [
    "### imports"
   ]
  },
  {
   "cell_type": "code",
   "execution_count": 1,
   "metadata": {},
   "outputs": [],
   "source": [
    "import pandas as pd\n",
    "import numpy as np\n",
    "import matplotlib.pyplot as plt\n",
    "import seaborn as sns"
   ]
  },
  {
   "cell_type": "code",
   "execution_count": 2,
   "metadata": {},
   "outputs": [],
   "source": [
    "import nltk"
   ]
  },
  {
   "cell_type": "code",
   "execution_count": null,
   "metadata": {},
   "outputs": [],
   "source": [
    "from nltk.corpus import stopwords\n",
    "from nltk import WordNetLemmatizer\n",
    "\n",
    "from sklearn.feature_extraction.text import TfidfVectorizer\n",
    "from sklearn.model_selection import train_test_split\n",
    "\n",
    "from sklearn.metrics import accuracy_score, confusion_matrix, classification_report\n",
    "\n",
    "from imblearn.over_sampling import SMOTE\n",
    "\n",
    "from sklearn.naive_bayes import MultinomialNB\n",
    "\n",
    "from xgboost import XGBClassifier\n",
    "from sklearn.ensemble import RandomForestClassifier"
   ]
  },
  {
   "cell_type": "code",
   "execution_count": 5,
   "metadata": {},
   "outputs": [
    {
     "name": "stderr",
     "output_type": "stream",
     "text": [
      "[nltk_data] Downloading package punkt to\n",
      "[nltk_data]     /Users/zachariamwaura/nltk_data...\n",
      "[nltk_data]   Package punkt is already up-to-date!\n",
      "[nltk_data] Downloading package wordnet to\n",
      "[nltk_data]     /Users/zachariamwaura/nltk_data...\n",
      "[nltk_data]   Package wordnet is already up-to-date!\n",
      "[nltk_data] Downloading package stopwords to\n",
      "[nltk_data]     /Users/zachariamwaura/nltk_data...\n",
      "[nltk_data]   Package stopwords is already up-to-date!\n"
     ]
    },
    {
     "data": {
      "text/plain": [
       "True"
      ]
     },
     "execution_count": 5,
     "metadata": {},
     "output_type": "execute_result"
    }
   ],
   "source": [
    "nltk.download('punkt')  # For tokenization\n",
    "nltk.download('wordnet')  # For WordNet lemmatizer\n",
    "nltk.download('stopwords')  # For stopwords"
   ]
  },
  {
   "cell_type": "markdown",
   "metadata": {},
   "source": [
    "### Read in File"
   ]
  },
  {
   "cell_type": "code",
   "execution_count": 6,
   "metadata": {},
   "outputs": [
    {
     "data": {
      "text/html": [
       "<div>\n",
       "<style scoped>\n",
       "    .dataframe tbody tr th:only-of-type {\n",
       "        vertical-align: middle;\n",
       "    }\n",
       "\n",
       "    .dataframe tbody tr th {\n",
       "        vertical-align: top;\n",
       "    }\n",
       "\n",
       "    .dataframe thead th {\n",
       "        text-align: right;\n",
       "    }\n",
       "</style>\n",
       "<table border=\"1\" class=\"dataframe\">\n",
       "  <thead>\n",
       "    <tr style=\"text-align: right;\">\n",
       "      <th></th>\n",
       "      <th>description</th>\n",
       "      <th>medical_specialty</th>\n",
       "      <th>sample_name</th>\n",
       "      <th>transcription</th>\n",
       "      <th>keywords</th>\n",
       "    </tr>\n",
       "  </thead>\n",
       "  <tbody>\n",
       "    <tr>\n",
       "      <th>0</th>\n",
       "      <td>A 23-year-old white female presents with comp...</td>\n",
       "      <td>Allergy / Immunology</td>\n",
       "      <td>Allergic Rhinitis</td>\n",
       "      <td>SUBJECTIVE:,  This 23-year-old white female pr...</td>\n",
       "      <td>allergy / immunology, allergic rhinitis, aller...</td>\n",
       "    </tr>\n",
       "    <tr>\n",
       "      <th>1</th>\n",
       "      <td>Consult for laparoscopic gastric bypass.</td>\n",
       "      <td>Bariatrics</td>\n",
       "      <td>Laparoscopic Gastric Bypass Consult - 2</td>\n",
       "      <td>PAST MEDICAL HISTORY:, He has difficulty climb...</td>\n",
       "      <td>bariatrics, laparoscopic gastric bypass, weigh...</td>\n",
       "    </tr>\n",
       "    <tr>\n",
       "      <th>2</th>\n",
       "      <td>Consult for laparoscopic gastric bypass.</td>\n",
       "      <td>Bariatrics</td>\n",
       "      <td>Laparoscopic Gastric Bypass Consult - 1</td>\n",
       "      <td>HISTORY OF PRESENT ILLNESS: , I have seen ABC ...</td>\n",
       "      <td>bariatrics, laparoscopic gastric bypass, heart...</td>\n",
       "    </tr>\n",
       "    <tr>\n",
       "      <th>3</th>\n",
       "      <td>2-D M-Mode. Doppler.</td>\n",
       "      <td>Cardiovascular / Pulmonary</td>\n",
       "      <td>2-D Echocardiogram - 1</td>\n",
       "      <td>2-D M-MODE: , ,1.  Left atrial enlargement wit...</td>\n",
       "      <td>cardiovascular / pulmonary, 2-d m-mode, dopple...</td>\n",
       "    </tr>\n",
       "    <tr>\n",
       "      <th>4</th>\n",
       "      <td>2-D Echocardiogram</td>\n",
       "      <td>Cardiovascular / Pulmonary</td>\n",
       "      <td>2-D Echocardiogram - 2</td>\n",
       "      <td>1.  The left ventricular cavity size and wall ...</td>\n",
       "      <td>cardiovascular / pulmonary, 2-d, doppler, echo...</td>\n",
       "    </tr>\n",
       "    <tr>\n",
       "      <th>5</th>\n",
       "      <td>Morbid obesity.  Laparoscopic antecolic anteg...</td>\n",
       "      <td>Bariatrics</td>\n",
       "      <td>Laparoscopic Gastric Bypass</td>\n",
       "      <td>PREOPERATIVE DIAGNOSIS: , Morbid obesity.,POST...</td>\n",
       "      <td>bariatrics, gastric bypass, eea anastomosis, r...</td>\n",
       "    </tr>\n",
       "    <tr>\n",
       "      <th>6</th>\n",
       "      <td>Liposuction of the supraumbilical abdomen, re...</td>\n",
       "      <td>Bariatrics</td>\n",
       "      <td>Liposuction</td>\n",
       "      <td>PREOPERATIVE DIAGNOSES:,1.  Deformity, right b...</td>\n",
       "      <td>bariatrics, breast reconstruction, excess, lma...</td>\n",
       "    </tr>\n",
       "    <tr>\n",
       "      <th>7</th>\n",
       "      <td>2-D Echocardiogram</td>\n",
       "      <td>Cardiovascular / Pulmonary</td>\n",
       "      <td>2-D Echocardiogram - 3</td>\n",
       "      <td>2-D ECHOCARDIOGRAM,Multiple views of the heart...</td>\n",
       "      <td>cardiovascular / pulmonary, 2-d echocardiogram...</td>\n",
       "    </tr>\n",
       "    <tr>\n",
       "      <th>8</th>\n",
       "      <td>Suction-assisted lipectomy - lipodystrophy of...</td>\n",
       "      <td>Bariatrics</td>\n",
       "      <td>Lipectomy - Abdomen/Thighs</td>\n",
       "      <td>PREOPERATIVE DIAGNOSIS: , Lipodystrophy of the...</td>\n",
       "      <td>bariatrics, lipodystrophy, abd pads, suction-a...</td>\n",
       "    </tr>\n",
       "    <tr>\n",
       "      <th>9</th>\n",
       "      <td>Echocardiogram and Doppler</td>\n",
       "      <td>Cardiovascular / Pulmonary</td>\n",
       "      <td>2-D Echocardiogram - 4</td>\n",
       "      <td>DESCRIPTION:,1.  Normal cardiac chambers size....</td>\n",
       "      <td>cardiovascular / pulmonary, ejection fraction,...</td>\n",
       "    </tr>\n",
       "  </tbody>\n",
       "</table>\n",
       "</div>"
      ],
      "text/plain": [
       "                                         description  \\\n",
       "0   A 23-year-old white female presents with comp...   \n",
       "1           Consult for laparoscopic gastric bypass.   \n",
       "2           Consult for laparoscopic gastric bypass.   \n",
       "3                             2-D M-Mode. Doppler.     \n",
       "4                                 2-D Echocardiogram   \n",
       "5   Morbid obesity.  Laparoscopic antecolic anteg...   \n",
       "6   Liposuction of the supraumbilical abdomen, re...   \n",
       "7                                 2-D Echocardiogram   \n",
       "8   Suction-assisted lipectomy - lipodystrophy of...   \n",
       "9                         Echocardiogram and Doppler   \n",
       "\n",
       "             medical_specialty                                sample_name  \\\n",
       "0         Allergy / Immunology                         Allergic Rhinitis    \n",
       "1                   Bariatrics   Laparoscopic Gastric Bypass Consult - 2    \n",
       "2                   Bariatrics   Laparoscopic Gastric Bypass Consult - 1    \n",
       "3   Cardiovascular / Pulmonary                    2-D Echocardiogram - 1    \n",
       "4   Cardiovascular / Pulmonary                    2-D Echocardiogram - 2    \n",
       "5                   Bariatrics               Laparoscopic Gastric Bypass    \n",
       "6                   Bariatrics                               Liposuction    \n",
       "7   Cardiovascular / Pulmonary                    2-D Echocardiogram - 3    \n",
       "8                   Bariatrics                Lipectomy - Abdomen/Thighs    \n",
       "9   Cardiovascular / Pulmonary                    2-D Echocardiogram - 4    \n",
       "\n",
       "                                       transcription  \\\n",
       "0  SUBJECTIVE:,  This 23-year-old white female pr...   \n",
       "1  PAST MEDICAL HISTORY:, He has difficulty climb...   \n",
       "2  HISTORY OF PRESENT ILLNESS: , I have seen ABC ...   \n",
       "3  2-D M-MODE: , ,1.  Left atrial enlargement wit...   \n",
       "4  1.  The left ventricular cavity size and wall ...   \n",
       "5  PREOPERATIVE DIAGNOSIS: , Morbid obesity.,POST...   \n",
       "6  PREOPERATIVE DIAGNOSES:,1.  Deformity, right b...   \n",
       "7  2-D ECHOCARDIOGRAM,Multiple views of the heart...   \n",
       "8  PREOPERATIVE DIAGNOSIS: , Lipodystrophy of the...   \n",
       "9  DESCRIPTION:,1.  Normal cardiac chambers size....   \n",
       "\n",
       "                                            keywords  \n",
       "0  allergy / immunology, allergic rhinitis, aller...  \n",
       "1  bariatrics, laparoscopic gastric bypass, weigh...  \n",
       "2  bariatrics, laparoscopic gastric bypass, heart...  \n",
       "3  cardiovascular / pulmonary, 2-d m-mode, dopple...  \n",
       "4  cardiovascular / pulmonary, 2-d, doppler, echo...  \n",
       "5  bariatrics, gastric bypass, eea anastomosis, r...  \n",
       "6  bariatrics, breast reconstruction, excess, lma...  \n",
       "7  cardiovascular / pulmonary, 2-d echocardiogram...  \n",
       "8  bariatrics, lipodystrophy, abd pads, suction-a...  \n",
       "9  cardiovascular / pulmonary, ejection fraction,...  "
      ]
     },
     "execution_count": 6,
     "metadata": {},
     "output_type": "execute_result"
    }
   ],
   "source": [
    "df = pd.read_csv('CLEANDATA/Clean_MT.csv', index_col=False)\n",
    "df.head(10)"
   ]
  },
  {
   "cell_type": "markdown",
   "metadata": {},
   "source": [
    "### Pre-process"
   ]
  },
  {
   "cell_type": "code",
   "execution_count": 7,
   "metadata": {},
   "outputs": [
    {
     "data": {
      "text/plain": [
       "'HISTORY OF PRESENT ILLNESS: , I have seen ABC today.  He is a very pleasant gentleman who is 42 years old, 344 pounds.  He is 5\\'9\".  He has a BMI of 51.  He has been overweight for ten years since the age of 33, at his highest he was 358 pounds, at his lowest 260.  He is pursuing surgical attempts of weight loss to feel good, get healthy, and begin to exercise again.  He wants to be able to exercise and play volleyball.  Physically, he is sluggish.  He gets tired quickly.  He does not go out often.  When he loses weight he always regains it and he gains back more than he lost.  His biggest weight loss is 25 pounds and it was three months before he gained it back.  He did six months of not drinking alcohol and not taking in many calories.  He has been on multiple commercial weight loss programs including Slim Fast for one month one year ago and Atkin\\'s Diet for one month two years ago.,PAST MEDICAL HISTORY: , He has difficulty climbing stairs, difficulty with airline seats, tying shoes, used to public seating, difficulty walking, high cholesterol, and high blood pressure.  He has asthma and difficulty walking two blocks or going eight to ten steps.  He has sleep apnea and snoring.  He is a diabetic, on medication.  He has joint pain, knee pain, back pain, foot and ankle pain, leg and foot swelling.  He has hemorrhoids.,PAST SURGICAL HISTORY: , Includes orthopedic or knee surgery.,SOCIAL HISTORY: , He is currently single.  He drinks alcohol ten to twelve drinks a week, but does not drink five days a week and then will binge drink.  He smokes one and a half pack a day for 15 years, but he has recently stopped smoking for the past two weeks.,FAMILY HISTORY: , Obesity, heart disease, and diabetes.  Family history is negative for hypertension and stroke.,CURRENT MEDICATIONS:,  Include Diovan, Crestor, and Tricor.,MISCELLANEOUS/EATING HISTORY:  ,He says a couple of friends of his have had heart attacks and have had died.  He used to drink everyday, but stopped two years ago.  He now only drinks on weekends.  He is on his second week of Chantix, which is a medication to come off smoking completely.  Eating, he eats bad food.  He is single.  He eats things like bacon, eggs, and cheese, cheeseburgers, fast food, eats four times a day, seven in the morning, at noon, 9 p.m., and 2 a.m.  He currently weighs 344 pounds and 5\\'9\".  His ideal body weight is 160 pounds.  He is 184 pounds overweight.  If he lost 70% of his excess body weight that would be 129 pounds and that would get him down to 215.,REVIEW OF SYSTEMS: , Negative for head, neck, heart, lungs, GI, GU, orthopedic, or skin.  He also is positive for gout.  He denies chest pain, heart attack, coronary artery disease, congestive heart failure, arrhythmia, atrial fibrillation, pacemaker, pulmonary embolism, or CVA.  He denies venous insufficiency or thrombophlebitis.  Denies shortness of breath, COPD, or emphysema.  Denies thyroid problems, hip pain, osteoarthritis, rheumatoid arthritis, GERD, hiatal hernia, peptic ulcer disease, gallstones, infected gallbladder, pancreatitis, fatty liver, hepatitis, rectal bleeding, polyps, incontinence of stool, urinary stress incontinence, or cancer.  He denies cellulitis, pseudotumor cerebri, meningitis, or encephalitis.,PHYSICAL EXAMINATION:  ,He is alert and oriented x 3.  Cranial nerves II-XII are intact.  Neck is soft and supple.  Lungs:  He has positive wheezing bilaterally.  Heart is regular rhythm and rate.  His abdomen is soft.  Extremities:  He has 1+ pitting edema.,IMPRESSION/PLAN:,  I have explained to him the risks and potential complications of laparoscopic gastric bypass in detail and these include bleeding, infection, deep venous thrombosis, pulmonary embolism, leakage from the gastrojejuno-anastomosis, jejunojejuno-anastomosis, and possible bowel obstruction among other potential complications.  He understands.  He wants to proceed with workup and evaluation for laparoscopic Roux-en-Y gastric bypass.  He will need to get a letter of approval from Dr. XYZ.  He will need to see a nutritionist and mental health worker.  He will need an upper endoscopy by either Dr. XYZ.  He will need to go to Dr. XYZ as he previously had a sleep study.  We will need another sleep study.  He will need H. pylori testing, thyroid function tests, LFTs, glycosylated hemoglobin, and fasting blood sugar.  After this is performed, we will submit him for insurance approval.'"
      ]
     },
     "execution_count": 7,
     "metadata": {},
     "output_type": "execute_result"
    }
   ],
   "source": [
    "# sample text\n",
    "\n",
    "Sampletext = df['transcription'].iloc[2]\n",
    "Sampletext"
   ]
  },
  {
   "cell_type": "code",
   "execution_count": 8,
   "metadata": {},
   "outputs": [],
   "source": [
    "# Preprocessing\n",
    "\n",
    "def PreProcess(text):\n",
    "    # Tokenization\n",
    "    tokens = nltk.word_tokenize(text)\n",
    "    # Lowercasing\n",
    "    tokens = [w.lower() for w in tokens]\n",
    "    # Remove punctuation\n",
    "    words = [word for word in tokens if word.isalpha()]\n",
    "    # remove stopwords\n",
    "    stop_words = set(stopwords.words('english'))\n",
    "    words = [w for w in words if not w in stop_words]\n",
    "    #lammatization\n",
    "    lemmatizer = WordNetLemmatizer()\n",
    "    words = [lemmatizer.lemmatize(w) for w in words]\n",
    "    return words"
   ]
  },
  {
   "cell_type": "code",
   "execution_count": 9,
   "metadata": {},
   "outputs": [
    {
     "data": {
      "text/plain": [
       "['history',\n",
       " 'present',\n",
       " 'illness',\n",
       " 'seen',\n",
       " 'abc',\n",
       " 'today',\n",
       " 'pleasant',\n",
       " 'gentleman',\n",
       " 'year',\n",
       " 'old',\n",
       " 'pound',\n",
       " 'bmi',\n",
       " 'overweight',\n",
       " 'ten',\n",
       " 'year',\n",
       " 'since',\n",
       " 'age',\n",
       " 'highest',\n",
       " 'pound',\n",
       " 'lowest',\n",
       " 'pursuing',\n",
       " 'surgical',\n",
       " 'attempt',\n",
       " 'weight',\n",
       " 'loss',\n",
       " 'feel',\n",
       " 'good',\n",
       " 'get',\n",
       " 'healthy',\n",
       " 'begin',\n",
       " 'exercise',\n",
       " 'want',\n",
       " 'able',\n",
       " 'exercise',\n",
       " 'play',\n",
       " 'volleyball',\n",
       " 'physically',\n",
       " 'sluggish',\n",
       " 'get',\n",
       " 'tired',\n",
       " 'quickly',\n",
       " 'go',\n",
       " 'often',\n",
       " 'loses',\n",
       " 'weight',\n",
       " 'always',\n",
       " 'regains',\n",
       " 'gain',\n",
       " 'back',\n",
       " 'lost',\n",
       " 'biggest',\n",
       " 'weight',\n",
       " 'loss',\n",
       " 'pound',\n",
       " 'three',\n",
       " 'month',\n",
       " 'gained',\n",
       " 'back',\n",
       " 'six',\n",
       " 'month',\n",
       " 'drinking',\n",
       " 'alcohol',\n",
       " 'taking',\n",
       " 'many',\n",
       " 'calorie',\n",
       " 'multiple',\n",
       " 'commercial',\n",
       " 'weight',\n",
       " 'loss',\n",
       " 'program',\n",
       " 'including',\n",
       " 'slim',\n",
       " 'fast',\n",
       " 'one',\n",
       " 'month',\n",
       " 'one',\n",
       " 'year',\n",
       " 'ago',\n",
       " 'atkin',\n",
       " 'diet',\n",
       " 'one',\n",
       " 'month',\n",
       " 'two',\n",
       " 'year',\n",
       " 'past',\n",
       " 'medical',\n",
       " 'history',\n",
       " 'difficulty',\n",
       " 'climbing',\n",
       " 'stair',\n",
       " 'difficulty',\n",
       " 'airline',\n",
       " 'seat',\n",
       " 'tying',\n",
       " 'shoe',\n",
       " 'used',\n",
       " 'public',\n",
       " 'seating',\n",
       " 'difficulty',\n",
       " 'walking',\n",
       " 'high',\n",
       " 'cholesterol',\n",
       " 'high',\n",
       " 'blood',\n",
       " 'pressure',\n",
       " 'asthma',\n",
       " 'difficulty',\n",
       " 'walking',\n",
       " 'two',\n",
       " 'block',\n",
       " 'going',\n",
       " 'eight',\n",
       " 'ten',\n",
       " 'step',\n",
       " 'sleep',\n",
       " 'apnea',\n",
       " 'snoring',\n",
       " 'diabetic',\n",
       " 'medication',\n",
       " 'joint',\n",
       " 'pain',\n",
       " 'knee',\n",
       " 'pain',\n",
       " 'back',\n",
       " 'pain',\n",
       " 'foot',\n",
       " 'ankle',\n",
       " 'pain',\n",
       " 'leg',\n",
       " 'foot',\n",
       " 'swelling',\n",
       " 'past',\n",
       " 'surgical',\n",
       " 'history',\n",
       " 'includes',\n",
       " 'orthopedic',\n",
       " 'knee',\n",
       " 'social',\n",
       " 'history',\n",
       " 'currently',\n",
       " 'single',\n",
       " 'drink',\n",
       " 'alcohol',\n",
       " 'ten',\n",
       " 'twelve',\n",
       " 'drink',\n",
       " 'week',\n",
       " 'drink',\n",
       " 'five',\n",
       " 'day',\n",
       " 'week',\n",
       " 'binge',\n",
       " 'drink',\n",
       " 'smoke',\n",
       " 'one',\n",
       " 'half',\n",
       " 'pack',\n",
       " 'day',\n",
       " 'year',\n",
       " 'recently',\n",
       " 'stopped',\n",
       " 'smoking',\n",
       " 'past',\n",
       " 'two',\n",
       " 'family',\n",
       " 'history',\n",
       " 'obesity',\n",
       " 'heart',\n",
       " 'disease',\n",
       " 'diabetes',\n",
       " 'family',\n",
       " 'history',\n",
       " 'negative',\n",
       " 'hypertension',\n",
       " 'current',\n",
       " 'medication',\n",
       " 'include',\n",
       " 'diovan',\n",
       " 'crestor',\n",
       " 'history',\n",
       " 'say',\n",
       " 'couple',\n",
       " 'friend',\n",
       " 'heart',\n",
       " 'attack',\n",
       " 'died',\n",
       " 'used',\n",
       " 'drink',\n",
       " 'everyday',\n",
       " 'stopped',\n",
       " 'two',\n",
       " 'year',\n",
       " 'ago',\n",
       " 'drink',\n",
       " 'weekend',\n",
       " 'second',\n",
       " 'week',\n",
       " 'chantix',\n",
       " 'medication',\n",
       " 'come',\n",
       " 'smoking',\n",
       " 'completely',\n",
       " 'eating',\n",
       " 'eats',\n",
       " 'bad',\n",
       " 'food',\n",
       " 'single',\n",
       " 'eats',\n",
       " 'thing',\n",
       " 'like',\n",
       " 'bacon',\n",
       " 'egg',\n",
       " 'cheese',\n",
       " 'cheeseburger',\n",
       " 'fast',\n",
       " 'food',\n",
       " 'eats',\n",
       " 'four',\n",
       " 'time',\n",
       " 'day',\n",
       " 'seven',\n",
       " 'morning',\n",
       " 'noon',\n",
       " 'currently',\n",
       " 'weighs',\n",
       " 'pound',\n",
       " 'ideal',\n",
       " 'body',\n",
       " 'weight',\n",
       " 'pound',\n",
       " 'pound',\n",
       " 'overweight',\n",
       " 'lost',\n",
       " 'excess',\n",
       " 'body',\n",
       " 'weight',\n",
       " 'would',\n",
       " 'pound',\n",
       " 'would',\n",
       " 'get',\n",
       " 'review',\n",
       " 'system',\n",
       " 'negative',\n",
       " 'head',\n",
       " 'neck',\n",
       " 'heart',\n",
       " 'lung',\n",
       " 'gi',\n",
       " 'gu',\n",
       " 'orthopedic',\n",
       " 'skin',\n",
       " 'also',\n",
       " 'positive',\n",
       " 'gout',\n",
       " 'denies',\n",
       " 'chest',\n",
       " 'pain',\n",
       " 'heart',\n",
       " 'attack',\n",
       " 'coronary',\n",
       " 'artery',\n",
       " 'disease',\n",
       " 'congestive',\n",
       " 'heart',\n",
       " 'failure',\n",
       " 'arrhythmia',\n",
       " 'atrial',\n",
       " 'fibrillation',\n",
       " 'pacemaker',\n",
       " 'pulmonary',\n",
       " 'embolism',\n",
       " 'cva',\n",
       " 'denies',\n",
       " 'venous',\n",
       " 'insufficiency',\n",
       " 'thrombophlebitis',\n",
       " 'denies',\n",
       " 'shortness',\n",
       " 'breath',\n",
       " 'copd',\n",
       " 'emphysema',\n",
       " 'denies',\n",
       " 'thyroid',\n",
       " 'problem',\n",
       " 'hip',\n",
       " 'pain',\n",
       " 'osteoarthritis',\n",
       " 'rheumatoid',\n",
       " 'arthritis',\n",
       " 'gerd',\n",
       " 'hiatal',\n",
       " 'hernia',\n",
       " 'peptic',\n",
       " 'ulcer',\n",
       " 'disease',\n",
       " 'gallstone',\n",
       " 'infected',\n",
       " 'gallbladder',\n",
       " 'pancreatitis',\n",
       " 'fatty',\n",
       " 'liver',\n",
       " 'hepatitis',\n",
       " 'rectal',\n",
       " 'bleeding',\n",
       " 'polyp',\n",
       " 'incontinence',\n",
       " 'stool',\n",
       " 'urinary',\n",
       " 'stress',\n",
       " 'incontinence',\n",
       " 'cancer',\n",
       " 'denies',\n",
       " 'cellulitis',\n",
       " 'pseudotumor',\n",
       " 'cerebri',\n",
       " 'meningitis',\n",
       " 'physical',\n",
       " 'examination',\n",
       " 'alert',\n",
       " 'oriented',\n",
       " 'x',\n",
       " 'cranial',\n",
       " 'nerve',\n",
       " 'intact',\n",
       " 'neck',\n",
       " 'soft',\n",
       " 'supple',\n",
       " 'lung',\n",
       " 'positive',\n",
       " 'wheezing',\n",
       " 'bilaterally',\n",
       " 'heart',\n",
       " 'regular',\n",
       " 'rhythm',\n",
       " 'rate',\n",
       " 'abdomen',\n",
       " 'soft',\n",
       " 'extremity',\n",
       " 'pitting',\n",
       " 'explained',\n",
       " 'risk',\n",
       " 'potential',\n",
       " 'complication',\n",
       " 'laparoscopic',\n",
       " 'gastric',\n",
       " 'bypass',\n",
       " 'detail',\n",
       " 'include',\n",
       " 'bleeding',\n",
       " 'infection',\n",
       " 'deep',\n",
       " 'venous',\n",
       " 'thrombosis',\n",
       " 'pulmonary',\n",
       " 'embolism',\n",
       " 'leakage',\n",
       " 'possible',\n",
       " 'bowel',\n",
       " 'obstruction',\n",
       " 'among',\n",
       " 'potential',\n",
       " 'complication',\n",
       " 'understands',\n",
       " 'want',\n",
       " 'proceed',\n",
       " 'workup',\n",
       " 'evaluation',\n",
       " 'laparoscopic',\n",
       " 'gastric',\n",
       " 'bypass',\n",
       " 'need',\n",
       " 'get',\n",
       " 'letter',\n",
       " 'approval',\n",
       " 'xyz',\n",
       " 'need',\n",
       " 'see',\n",
       " 'nutritionist',\n",
       " 'mental',\n",
       " 'health',\n",
       " 'worker',\n",
       " 'need',\n",
       " 'upper',\n",
       " 'endoscopy',\n",
       " 'either',\n",
       " 'xyz',\n",
       " 'need',\n",
       " 'go',\n",
       " 'xyz',\n",
       " 'previously',\n",
       " 'sleep',\n",
       " 'study',\n",
       " 'need',\n",
       " 'another',\n",
       " 'sleep',\n",
       " 'study',\n",
       " 'need',\n",
       " 'pylorus',\n",
       " 'testing',\n",
       " 'thyroid',\n",
       " 'function',\n",
       " 'test',\n",
       " 'lfts',\n",
       " 'glycosylated',\n",
       " 'hemoglobin',\n",
       " 'fasting',\n",
       " 'blood',\n",
       " 'sugar',\n",
       " 'performed',\n",
       " 'submit',\n",
       " 'insurance',\n",
       " 'approval']"
      ]
     },
     "execution_count": 9,
     "metadata": {},
     "output_type": "execute_result"
    }
   ],
   "source": [
    "PreProcess(Sampletext)"
   ]
  },
  {
   "cell_type": "code",
   "execution_count": 10,
   "metadata": {},
   "outputs": [],
   "source": [
    "words = PreProcess(Sampletext)"
   ]
  },
  {
   "cell_type": "code",
   "execution_count": 11,
   "metadata": {},
   "outputs": [],
   "source": [
    "# create word frequency\n",
    "wordfreq = {}\n",
    "for word in words:\n",
    "    if word not in wordfreq:\n",
    "        wordfreq[word] = 0 \n",
    "    wordfreq[word] += 1"
   ]
  },
  {
   "cell_type": "code",
   "execution_count": 12,
   "metadata": {},
   "outputs": [
    {
     "name": "stdout",
     "output_type": "stream",
     "text": [
      "{'history': 7, 'present': 1, 'illness': 1, 'seen': 1, 'abc': 1, 'today': 1, 'pleasant': 1, 'gentleman': 1, 'year': 6, 'old': 1, 'pound': 7, 'bmi': 1, 'overweight': 2, 'ten': 3, 'since': 1, 'age': 1, 'highest': 1, 'lowest': 1, 'pursuing': 1, 'surgical': 2, 'attempt': 1, 'weight': 6, 'loss': 3, 'feel': 1, 'good': 1, 'get': 4, 'healthy': 1, 'begin': 1, 'exercise': 2, 'want': 2, 'able': 1, 'play': 1, 'volleyball': 1, 'physically': 1, 'sluggish': 1, 'tired': 1, 'quickly': 1, 'go': 2, 'often': 1, 'loses': 1, 'always': 1, 'regains': 1, 'gain': 1, 'back': 3, 'lost': 2, 'biggest': 1, 'three': 1, 'month': 4, 'gained': 1, 'six': 1, 'drinking': 1, 'alcohol': 2, 'taking': 1, 'many': 1, 'calorie': 1, 'multiple': 1, 'commercial': 1, 'program': 1, 'including': 1, 'slim': 1, 'fast': 2, 'one': 4, 'ago': 2, 'atkin': 1, 'diet': 1, 'two': 4, 'past': 3, 'medical': 1, 'difficulty': 4, 'climbing': 1, 'stair': 1, 'airline': 1, 'seat': 1, 'tying': 1, 'shoe': 1, 'used': 2, 'public': 1, 'seating': 1, 'walking': 2, 'high': 2, 'cholesterol': 1, 'blood': 2, 'pressure': 1, 'asthma': 1, 'block': 1, 'going': 1, 'eight': 1, 'step': 1, 'sleep': 3, 'apnea': 1, 'snoring': 1, 'diabetic': 1, 'medication': 3, 'joint': 1, 'pain': 6, 'knee': 2, 'foot': 2, 'ankle': 1, 'leg': 1, 'swelling': 1, 'includes': 1, 'orthopedic': 2, 'social': 1, 'currently': 2, 'single': 2, 'drink': 6, 'twelve': 1, 'week': 3, 'five': 1, 'day': 3, 'binge': 1, 'smoke': 1, 'half': 1, 'pack': 1, 'recently': 1, 'stopped': 2, 'smoking': 2, 'family': 2, 'obesity': 1, 'heart': 6, 'disease': 3, 'diabetes': 1, 'negative': 2, 'hypertension': 1, 'current': 1, 'include': 2, 'diovan': 1, 'crestor': 1, 'say': 1, 'couple': 1, 'friend': 1, 'attack': 2, 'died': 1, 'everyday': 1, 'weekend': 1, 'second': 1, 'chantix': 1, 'come': 1, 'completely': 1, 'eating': 1, 'eats': 3, 'bad': 1, 'food': 2, 'thing': 1, 'like': 1, 'bacon': 1, 'egg': 1, 'cheese': 1, 'cheeseburger': 1, 'four': 1, 'time': 1, 'seven': 1, 'morning': 1, 'noon': 1, 'weighs': 1, 'ideal': 1, 'body': 2, 'excess': 1, 'would': 2, 'review': 1, 'system': 1, 'head': 1, 'neck': 2, 'lung': 2, 'gi': 1, 'gu': 1, 'skin': 1, 'also': 1, 'positive': 2, 'gout': 1, 'denies': 5, 'chest': 1, 'coronary': 1, 'artery': 1, 'congestive': 1, 'failure': 1, 'arrhythmia': 1, 'atrial': 1, 'fibrillation': 1, 'pacemaker': 1, 'pulmonary': 2, 'embolism': 2, 'cva': 1, 'venous': 2, 'insufficiency': 1, 'thrombophlebitis': 1, 'shortness': 1, 'breath': 1, 'copd': 1, 'emphysema': 1, 'thyroid': 2, 'problem': 1, 'hip': 1, 'osteoarthritis': 1, 'rheumatoid': 1, 'arthritis': 1, 'gerd': 1, 'hiatal': 1, 'hernia': 1, 'peptic': 1, 'ulcer': 1, 'gallstone': 1, 'infected': 1, 'gallbladder': 1, 'pancreatitis': 1, 'fatty': 1, 'liver': 1, 'hepatitis': 1, 'rectal': 1, 'bleeding': 2, 'polyp': 1, 'incontinence': 2, 'stool': 1, 'urinary': 1, 'stress': 1, 'cancer': 1, 'cellulitis': 1, 'pseudotumor': 1, 'cerebri': 1, 'meningitis': 1, 'physical': 1, 'examination': 1, 'alert': 1, 'oriented': 1, 'x': 1, 'cranial': 1, 'nerve': 1, 'intact': 1, 'soft': 2, 'supple': 1, 'wheezing': 1, 'bilaterally': 1, 'regular': 1, 'rhythm': 1, 'rate': 1, 'abdomen': 1, 'extremity': 1, 'pitting': 1, 'explained': 1, 'risk': 1, 'potential': 2, 'complication': 2, 'laparoscopic': 2, 'gastric': 2, 'bypass': 2, 'detail': 1, 'infection': 1, 'deep': 1, 'thrombosis': 1, 'leakage': 1, 'possible': 1, 'bowel': 1, 'obstruction': 1, 'among': 1, 'understands': 1, 'proceed': 1, 'workup': 1, 'evaluation': 1, 'need': 6, 'letter': 1, 'approval': 2, 'xyz': 3, 'see': 1, 'nutritionist': 1, 'mental': 1, 'health': 1, 'worker': 1, 'upper': 1, 'endoscopy': 1, 'either': 1, 'previously': 1, 'study': 2, 'another': 1, 'pylorus': 1, 'testing': 1, 'function': 1, 'test': 1, 'lfts': 1, 'glycosylated': 1, 'hemoglobin': 1, 'fasting': 1, 'sugar': 1, 'performed': 1, 'submit': 1, 'insurance': 1}\n"
     ]
    }
   ],
   "source": [
    "print(wordfreq)"
   ]
  },
  {
   "cell_type": "code",
   "execution_count": 13,
   "metadata": {},
   "outputs": [
    {
     "data": {
      "image/png": "[encoded data removed]",
      "text/plain": [
       "<Figure size 640x480 with 1 Axes>"
      ]
     },
     "metadata": {},
     "output_type": "display_data"
    }
   ],
   "source": [
    "# plot word frequency top 10\n",
    "\n",
    "wordfreq = sorted(wordfreq.items(), key=lambda x: x[1], reverse=True)\n",
    "wordfreq = wordfreq[:10]\n",
    "\n",
    "plt.bar([x[0] for x in wordfreq], [x[1] for x in wordfreq])\n",
    "plt.show()"
   ]
  },
  {
   "cell_type": "markdown",
   "metadata": {},
   "source": [
    "### Filtering"
   ]
  },
  {
   "cell_type": "code",
   "execution_count": 14,
   "metadata": {},
   "outputs": [
    {
     "data": {
      "text/plain": [
       "medical_specialty\n",
       " Surgery                          1021\n",
       " Orthopedic                        303\n",
       " Cardiovascular / Pulmonary        280\n",
       " Radiology                         251\n",
       " Consult - History and Phy.        234\n",
       " Gastroenterology                  195\n",
       " Neurology                         168\n",
       " General Medicine                  146\n",
       " SOAP / Chart / Progress Notes     142\n",
       " Urology                           140\n",
       " Obstetrics / Gynecology           130\n",
       " ENT - Otolaryngology               84\n",
       " Neurosurgery                       81\n",
       " Ophthalmology                      79\n",
       " Discharge Summary                  77\n",
       " Nephrology                         63\n",
       " Hematology - Oncology              62\n",
       " Pain Management                    58\n",
       " Office Notes                       44\n",
       " Pediatrics - Neonatal              42\n",
       " Podiatry                           42\n",
       " Emergency Room Reports             31\n",
       " Dermatology                        25\n",
       " Dentistry                          25\n",
       " Cosmetic / Plastic Surgery         25\n",
       " Letters                            20\n",
       " Psychiatry / Psychology            19\n",
       " Sleep Medicine                     18\n",
       " Bariatrics                         18\n",
       " Endocrinology                      15\n",
       " Physical Medicine - Rehab          11\n",
       " Diets and Nutritions               10\n",
       " Speech - Language                   8\n",
       " Lab Medicine - Pathology            8\n",
       " Rheumatology                        7\n",
       " Hospice - Palliative Care           5\n",
       " Chiropractic                        4\n",
       " IME-QME-Work Comp etc.              4\n",
       " Allergy / Immunology                3\n",
       "Name: count, dtype: int64"
      ]
     },
     "execution_count": 14,
     "metadata": {},
     "output_type": "execute_result"
    }
   ],
   "source": [
    "df['medical_specialty'].value_counts()"
   ]
  },
  {
   "cell_type": "code",
   "execution_count": 15,
   "metadata": {},
   "outputs": [
    {
     "data": {
      "text/plain": [
       "medical_specialty\n",
       " Surgery                          1021\n",
       " Orthopedic                        303\n",
       " Cardiovascular / Pulmonary        280\n",
       " Radiology                         251\n",
       " Consult - History and Phy.        234\n",
       " Gastroenterology                  195\n",
       " Neurology                         168\n",
       " General Medicine                  146\n",
       " SOAP / Chart / Progress Notes     142\n",
       " Urology                           140\n",
       " Obstetrics / Gynecology           130\n",
       "Name: count, dtype: int64"
      ]
     },
     "execution_count": 15,
     "metadata": {},
     "output_type": "execute_result"
    }
   ],
   "source": [
    "# value counts of the medical specialty greater than 100\n",
    "df['medical_specialty'].value_counts()[df['medical_specialty'].value_counts() > 100]"
   ]
  },
  {
   "cell_type": "code",
   "execution_count": 16,
   "metadata": {},
   "outputs": [],
   "source": [
    "df = df[df['medical_specialty'].isin(df['medical_specialty'].value_counts()[df['medical_specialty'].value_counts() > 100].index)]"
   ]
  },
  {
   "cell_type": "code",
   "execution_count": 17,
   "metadata": {},
   "outputs": [
    {
     "name": "stdout",
     "output_type": "stream",
     "text": [
      "<class 'pandas.core.frame.DataFrame'>\n",
      "Index: 3010 entries, 3 to 3887\n",
      "Data columns (total 5 columns):\n",
      " #   Column             Non-Null Count  Dtype \n",
      "---  ------             --------------  ----- \n",
      " 0   description        3010 non-null   object\n",
      " 1   medical_specialty  3010 non-null   object\n",
      " 2   sample_name        3010 non-null   object\n",
      " 3   transcription      3010 non-null   object\n",
      " 4   keywords           3010 non-null   object\n",
      "dtypes: object(5)\n",
      "memory usage: 141.1+ KB\n"
     ]
    }
   ],
   "source": [
    "df.info()"
   ]
  },
  {
   "cell_type": "code",
   "execution_count": 18,
   "metadata": {},
   "outputs": [
    {
     "data": {
      "text/plain": [
       "medical_specialty\n",
       " Surgery                          1021\n",
       " Orthopedic                        303\n",
       " Cardiovascular / Pulmonary        280\n",
       " Radiology                         251\n",
       " Consult - History and Phy.        234\n",
       " Gastroenterology                  195\n",
       " Neurology                         168\n",
       " General Medicine                  146\n",
       " SOAP / Chart / Progress Notes     142\n",
       " Urology                           140\n",
       " Obstetrics / Gynecology           130\n",
       "Name: count, dtype: int64"
      ]
     },
     "execution_count": 18,
     "metadata": {},
     "output_type": "execute_result"
    }
   ],
   "source": [
    "df['medical_specialty'].value_counts()"
   ]
  },
  {
   "cell_type": "markdown",
   "metadata": {},
   "source": [
    "### Train Test Split"
   ]
  },
  {
   "cell_type": "code",
   "execution_count": 19,
   "metadata": {},
   "outputs": [
    {
     "name": "stdout",
     "output_type": "stream",
     "text": [
      "Training set size: 2408\n",
      "Testing set size: 602\n"
     ]
    }
   ],
   "source": [
    "# Preprocess the transcriptions\n",
    "df['processed_transcription'] = df['transcription'].apply(PreProcess)\n",
    "\n",
    "# Define the features and labels\n",
    "X = df['processed_transcription'].apply(lambda x: ' '.join(x))\n",
    "y = df['medical_specialty']\n",
    "\n",
    "# Split the data into training and testing sets\n",
    "X_train, X_test, y_train, y_test = train_test_split(X, y, test_size=0.2, random_state=42)\n",
    "\n",
    "print(f\"Training set size: {len(X_train)}\")\n",
    "print(f\"Testing set size: {len(X_test)}\")"
   ]
  },
  {
   "cell_type": "code",
   "execution_count": 20,
   "metadata": {},
   "outputs": [],
   "source": [
    "# Define the vectorizer\n",
    "vectorizer = TfidfVectorizer()"
   ]
  },
  {
   "cell_type": "code",
   "execution_count": 21,
   "metadata": {},
   "outputs": [
    {
     "name": "stdout",
     "output_type": "stream",
     "text": [
      "TF-IDF matrix for training data: (2408, 14550)\n",
      "TF-IDF matrix for testing data: (602, 14550)\n"
     ]
    }
   ],
   "source": [
    "# Fit the vectorizer on the training data\n",
    "X_train_tfidf = vectorizer.fit_transform(X_train)\n",
    "\n",
    "# Transform the testing data\n",
    "X_test_tfidf = vectorizer.transform(X_test)\n",
    "\n",
    "print(f\"TF-IDF matrix for training data: {X_train_tfidf.shape}\")\n",
    "print(f\"TF-IDF matrix for testing data: {X_test_tfidf.shape}\")"
   ]
  },
  {
   "cell_type": "markdown",
   "metadata": {},
   "source": [
    "### Classification"
   ]
  },
  {
   "cell_type": "code",
   "execution_count": 22,
   "metadata": {},
   "outputs": [
    {
     "name": "stdout",
     "output_type": "stream",
     "text": [
      "Original training set size: (2408, 14550)\n",
      "Resampled training set size: (8855, 14550)\n"
     ]
    }
   ],
   "source": [
    "# Define the SMOTE object\n",
    "smote = SMOTE(random_state=42)\n",
    "\n",
    "# Apply SMOTE to the training data\n",
    "X_train_resampled, y_train_resampled = smote.fit_resample(X_train_tfidf, y_train)\n",
    "\n",
    "print(f\"Original training set size: {X_train_tfidf.shape}\")\n",
    "print(f\"Resampled training set size: {X_train_resampled.shape}\")"
   ]
  },
  {
   "cell_type": "code",
   "execution_count": 23,
   "metadata": {},
   "outputs": [
    {
     "name": "stdout",
     "output_type": "stream",
     "text": [
      "Naive Bayes Accuracy: 0.42857142857142855\n",
      "Naive Bayes Classification Report:\n",
      "                                precision    recall  f1-score   support\n",
      "\n",
      "    Cardiovascular / Pulmonary       0.47      0.54      0.50        63\n",
      "    Consult - History and Phy.       0.32      0.42      0.36        38\n",
      "              Gastroenterology       0.44      0.64      0.52        42\n",
      "              General Medicine       0.24      0.30      0.27        33\n",
      "                     Neurology       0.50      0.46      0.48        35\n",
      "       Obstetrics / Gynecology       0.33      0.68      0.45        22\n",
      "                    Orthopedic       0.40      0.77      0.53        52\n",
      "                     Radiology       0.26      0.24      0.25        38\n",
      " SOAP / Chart / Progress Notes       0.26      0.28      0.27        32\n",
      "                       Surgery       0.77      0.28      0.41       216\n",
      "                       Urology       0.43      0.71      0.54        31\n",
      "\n",
      "                      accuracy                           0.43       602\n",
      "                     macro avg       0.40      0.48      0.42       602\n",
      "                  weighted avg       0.52      0.43      0.42       602\n",
      "\n"
     ]
    }
   ],
   "source": [
    "# Define the classifier\n",
    "nb_classifier = MultinomialNB()\n",
    "\n",
    "# Train the classifier\n",
    "nb_classifier.fit(X_train_resampled, y_train_resampled)\n",
    "\n",
    "# Predict on the test set\n",
    "y_pred_nb = nb_classifier.predict(X_test_tfidf)\n",
    "\n",
    "# Evaluate the classifier\n",
    "accuracy_nb = accuracy_score(y_test, y_pred_nb)\n",
    "report_nb = classification_report(y_test, y_pred_nb)\n",
    "\n",
    "print(f\"Naive Bayes Accuracy: {accuracy_nb}\")\n",
    "print(f\"Naive Bayes Classification Report:\\n{report_nb}\")"
   ]
  },
  {
   "cell_type": "code",
   "execution_count": 24,
   "metadata": {},
   "outputs": [
    {
     "data": {
      "image/png": "[encoded data removed]",
      "text/plain": [
       "<Figure size 1000x700 with 2 Axes>"
      ]
     },
     "metadata": {},
     "output_type": "display_data"
    }
   ],
   "source": [
    "# confusion matrix\n",
    "cm = confusion_matrix(y_test, y_pred_nb)\n",
    "\n",
    "plt.figure(figsize=(10, 7))\n",
    "sns.heatmap(cm, annot=True, fmt='d', cmap='Blues')\n",
    "plt.xlabel('Predicted labels')\n",
    "plt.ylabel('True labels')\n",
    "plt.show()"
   ]
  },
  {
   "cell_type": "code",
   "execution_count": 26,
   "metadata": {},
   "outputs": [],
   "source": [
    "### XGBoost Classifier\n",
    "\n",
    "# Define the classifier\n",
    "xgb_classifier = XGBClassifier()"
   ]
  },
  {
   "cell_type": "code",
   "execution_count": 28,
   "metadata": {},
   "outputs": [
    {
     "name": "stdout",
     "output_type": "stream",
     "text": [
      "XGBoost Accuracy: 0.22591362126245848\n",
      "XGBoost Classification Report:\n",
      "                                precision    recall  f1-score   support\n",
      "\n",
      "    Cardiovascular / Pulmonary       0.20      0.16      0.18        63\n",
      "    Consult - History and Phy.       0.24      0.34      0.28        38\n",
      "              Gastroenterology       0.20      0.21      0.21        42\n",
      "              General Medicine       0.18      0.18      0.18        33\n",
      "                     Neurology       0.19      0.11      0.14        35\n",
      "       Obstetrics / Gynecology       0.15      0.23      0.18        22\n",
      "                    Orthopedic       0.09      0.10      0.09        52\n",
      "                     Radiology       0.16      0.21      0.18        38\n",
      " SOAP / Chart / Progress Notes       0.12      0.09      0.11        32\n",
      "                       Surgery       0.34      0.32      0.33       216\n",
      "                       Urology       0.10      0.10      0.10        31\n",
      "\n",
      "                      accuracy                           0.23       602\n",
      "                     macro avg       0.18      0.19      0.18       602\n",
      "                  weighted avg       0.23      0.23      0.23       602\n",
      "\n"
     ]
    }
   ],
   "source": [
    "\n",
    "from sklearn.preprocessing import LabelEncoder\n",
    "\n",
    "# Encode the labels\n",
    "label_encoder = LabelEncoder()\n",
    "y_train_resampled_encoded = label_encoder.fit_transform(y_train_resampled)\n",
    "y_test_encoded = label_encoder.transform(y_test)\n",
    "\n",
    "# Train the classifier\n",
    "xgb_classifier.fit(X_train_resampled, y_train_resampled_encoded)\n",
    "\n",
    "# Predict on the test set\n",
    "y_pred_xgb = xgb_classifier.predict(X_test_tfidf)\n",
    "\n",
    "# Evaluate the classifier\n",
    "accuracy_xgb = accuracy_score(y_test_encoded, y_pred_xgb)\n",
    "report_xgb = classification_report(y_test_encoded, y_pred_xgb, target_names=label_encoder.classes_)\n",
    "\n",
    "print(f\"XGBoost Accuracy: {accuracy_xgb}\")\n",
    "print(f\"XGBoost Classification Report:\\n{report_xgb}\")\n"
   ]
  },
  {
   "cell_type": "code",
   "execution_count": 30,
   "metadata": {},
   "outputs": [
    {
     "data": {
      "image/png": "[encoded data removed]",
      "text/plain": [
       "<Figure size 1000x700 with 2 Axes>"
      ]
     },
     "metadata": {},
     "output_type": "display_data"
    }
   ],
   "source": [
    "\n",
    "# Encode the true labels to match the predicted labels\n",
    "y_test_encoded = label_encoder.transform(y_test)\n",
    "\n",
    "# confusion matrix\n",
    "cm = confusion_matrix(y_test_encoded, y_pred_xgb)\n",
    "\n",
    "plt.figure(figsize=(10, 7))\n",
    "sns.heatmap(cm, annot=True, fmt='d', cmap='Blues')\n",
    "plt.xlabel('Predicted labels')\n",
    "plt.ylabel('True labels')\n",
    "plt.show()\n"
   ]
  },
  {
   "cell_type": "code",
   "execution_count": 31,
   "metadata": {},
   "outputs": [],
   "source": [
    "# hyperparameter tuning\n",
    "from sklearn.model_selection import GridSearchCV"
   ]
  },
  {
   "cell_type": "code",
   "execution_count": 32,
   "metadata": {},
   "outputs": [],
   "source": [
    "\n",
    "# Define the parameter grid\n",
    "param_grid = {\n",
    "    'n_estimators': [50, 100, 150],\n",
    "    'max_depth': [3, 5, 7]\n",
    "}\n"
   ]
  },
  {
   "cell_type": "code",
   "execution_count": 33,
   "metadata": {},
   "outputs": [
    {
     "name": "stdout",
     "output_type": "stream",
     "text": [
      "Best parameters: {'max_depth': 7, 'n_estimators': 150}\n"
     ]
    }
   ],
   "source": [
    "\n",
    "# Define the grid search\n",
    "grid_search = GridSearchCV(XGBClassifier(), param_grid, cv=3, n_jobs=-1)\n",
    "\n",
    "# Perform the grid search\n",
    "grid_search.fit(X_train_resampled, y_train_resampled_encoded)\n",
    "\n",
    "# Get the best parameters\n",
    "best_params = grid_search.best_params_\n",
    "\n",
    "print(f\"Best parameters: {best_params}\")\n"
   ]
  },
  {
   "cell_type": "code",
   "execution_count": 34,
   "metadata": {},
   "outputs": [
    {
     "name": "stdout",
     "output_type": "stream",
     "text": [
      "XGBoost Accuracy: 0.22259136212624583\n",
      "XGBoost Classification Report:\n",
      "                                precision    recall  f1-score   support\n",
      "\n",
      "    Cardiovascular / Pulmonary       0.22      0.19      0.21        63\n",
      "    Consult - History and Phy.       0.23      0.37      0.28        38\n",
      "              Gastroenterology       0.16      0.17      0.16        42\n",
      "              General Medicine       0.15      0.12      0.13        33\n",
      "                     Neurology       0.19      0.11      0.14        35\n",
      "       Obstetrics / Gynecology       0.15      0.23      0.18        22\n",
      "                    Orthopedic       0.08      0.08      0.08        52\n",
      "                     Radiology       0.13      0.18      0.16        38\n",
      " SOAP / Chart / Progress Notes       0.12      0.09      0.11        32\n",
      "                       Surgery       0.34      0.32      0.33       216\n",
      "                       Urology       0.13      0.13      0.13        31\n",
      "\n",
      "                      accuracy                           0.22       602\n",
      "                     macro avg       0.17      0.18      0.17       602\n",
      "                  weighted avg       0.23      0.22      0.22       602\n",
      "\n"
     ]
    }
   ],
   "source": [
    "\n",
    "# Train the classifier with the best parameters\n",
    "xgb_classifier_best = XGBClassifier(**best_params)\n",
    "xgb_classifier_best.fit(X_train_resampled, y_train_resampled_encoded)\n",
    "\n",
    "# Predict on the test set\n",
    "y_pred_xgb_best = xgb_classifier_best.predict(X_test_tfidf)\n",
    "\n",
    "# Evaluate the classifier\n",
    "accuracy_xgb_best = accuracy_score(y_test_encoded, y_pred_xgb_best)\n",
    "report_xgb_best = classification_report(y_test_encoded, y_pred_xgb_best, target_names=label_encoder.classes_)\n",
    "print(f\"XGBoost Accuracy: {accuracy_xgb_best}\")\n",
    "print(f\"XGBoost Classification Report:\\n{report_xgb_best}\")\n"
   ]
  },
  {
   "cell_type": "code",
   "execution_count": 35,
   "metadata": {},
   "outputs": [
    {
     "data": {
      "image/png": "[encoded data removed]",
      "text/plain": [
       "<Figure size 1000x700 with 2 Axes>"
      ]
     },
     "metadata": {},
     "output_type": "display_data"
    }
   ],
   "source": [
    "\n",
    "# confusion matrix\n",
    "cm = confusion_matrix(y_test_encoded, y_pred_xgb_best)\n",
    "\n",
    "plt.figure(figsize=(10, 7))\n",
    "sns.heatmap(cm, annot=True, fmt='d', cmap='Blues')\n",
    "plt.xlabel('Predicted labels')\n",
    "plt.ylabel('True labels')\n",
    "plt.show()"
   ]
  },
  {
   "cell_type": "code",
   "execution_count": 37,
   "metadata": {},
   "outputs": [],
   "source": [
    "# random forest classifier\n",
    "\n",
    "# Define the classifier\n",
    "rf_classifier = RandomForestClassifier()\n"
   ]
  },
  {
   "cell_type": "code",
   "execution_count": 38,
   "metadata": {},
   "outputs": [
    {
     "name": "stdout",
     "output_type": "stream",
     "text": [
      "Random Forest Accuracy: 0.2159468438538206\n",
      "Random Forest Classification Report:\n",
      "                                precision    recall  f1-score   support\n",
      "\n",
      "    Cardiovascular / Pulmonary       0.20      0.16      0.18        63\n",
      "    Consult - History and Phy.       0.19      0.29      0.23        38\n",
      "              Gastroenterology       0.15      0.14      0.14        42\n",
      "              General Medicine       0.10      0.09      0.10        33\n",
      "                     Neurology       0.13      0.09      0.10        35\n",
      "       Obstetrics / Gynecology       0.15      0.23      0.18        22\n",
      "                    Orthopedic       0.07      0.08      0.07        52\n",
      "                     Radiology       0.19      0.29      0.23        38\n",
      " SOAP / Chart / Progress Notes       0.14      0.12      0.13        32\n",
      "                       Surgery       0.35      0.31      0.33       216\n",
      "                       Urology       0.16      0.16      0.16        31\n",
      "\n",
      "                      accuracy                           0.22       602\n",
      "                     macro avg       0.17      0.18      0.17       602\n",
      "                  weighted avg       0.22      0.22      0.22       602\n",
      "\n"
     ]
    }
   ],
   "source": [
    "\n",
    "# Train the classifier\n",
    "rf_classifier.fit(X_train_resampled, y_train_resampled_encoded)\n",
    "\n",
    "# Predict on the test set\n",
    "y_pred_rf = rf_classifier.predict(X_test_tfidf)\n",
    "\n",
    "# Evaluate the classifier\n",
    "accuracy_rf = accuracy_score(y_test_encoded, y_pred_rf)\n",
    "report_rf = classification_report(y_test_encoded, y_pred_rf, target_names=label_encoder.classes_)\n",
    "print(f\"Random Forest Accuracy: {accuracy_rf}\")\n",
    "print(f\"Random Forest Classification Report:\\n{report_rf}\")\n"
   ]
  },
  {
   "cell_type": "code",
   "execution_count": 39,
   "metadata": {},
   "outputs": [
    {
     "data": {
      "image/png": "[encoded data removed]",
      "text/plain": [
       "<Figure size 1000x700 with 2 Axes>"
      ]
     },
     "metadata": {},
     "output_type": "display_data"
    }
   ],
   "source": [
    "\n",
    "# confusion matrix\n",
    "cm = confusion_matrix(y_test_encoded, y_pred_rf)\n",
    "\n",
    "plt.figure(figsize=(10, 7))\n",
    "sns.heatmap(cm, annot=True, fmt='d', cmap='Blues')\n",
    "plt.xlabel('Predicted labels')\n",
    "plt.ylabel('True labels')\n",
    "plt.show()"
   ]
  }
 ],
 "metadata": {
  "kernelspec": {
   "display_name": "capstoneEnv",
   "language": "python",
   "name": "python3"
  },
  "language_info": {
   "codemirror_mode": {
    "name": "ipython",
    "version": 3
   },
   "file_extension": ".py",
   "mimetype": "text/x-python",
   "name": "python",
   "nbconvert_exporter": "python",
   "pygments_lexer": "ipython3",
   "version": "3.8.20"
  }
 },
 "nbformat": 4,
 "nbformat_minor": 2
}
