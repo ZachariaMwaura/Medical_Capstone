{
 "cells": [
  {
   "cell_type": "code",
   "execution_count": 53,
   "metadata": {},
   "outputs": [],
   "source": [
    "import pandas as pd\n",
    "import numpy as np\n",
    "import matplotlib.pyplot as plt\n",
    "import seaborn as sns"
   ]
  },
  {
   "cell_type": "code",
   "execution_count": 25,
   "metadata": {},
   "outputs": [],
   "source": [
    "import spacy\n",
    "import re"
   ]
  },
  {
   "cell_type": "code",
   "execution_count": null,
   "metadata": {},
   "outputs": [],
   "source": [
    "from sklearn.model_selection import train_test_split\n",
    "\n",
    "from sklearn.feature_extraction.text import TfidfVectorizer\n",
    "\n",
    "from imblearn.over_sampling import SMOTE\n",
    "\n",
    "from sklearn.naive_bayes import MultinomialNB\n",
    "\n",
    "from sklearn.metrics import accuracy_score, confusion_matrix, classification_report"
   ]
  },
  {
   "cell_type": "code",
   "execution_count": 3,
   "metadata": {},
   "outputs": [],
   "source": [
    "nlp = spacy.load('en_core_web_sm')"
   ]
  },
  {
   "cell_type": "code",
   "execution_count": 4,
   "metadata": {},
   "outputs": [
    {
     "data": {
      "text/html": [
       "<div>\n",
       "<style scoped>\n",
       "    .dataframe tbody tr th:only-of-type {\n",
       "        vertical-align: middle;\n",
       "    }\n",
       "\n",
       "    .dataframe tbody tr th {\n",
       "        vertical-align: top;\n",
       "    }\n",
       "\n",
       "    .dataframe thead th {\n",
       "        text-align: right;\n",
       "    }\n",
       "</style>\n",
       "<table border=\"1\" class=\"dataframe\">\n",
       "  <thead>\n",
       "    <tr style=\"text-align: right;\">\n",
       "      <th></th>\n",
       "      <th>description</th>\n",
       "      <th>medical_specialty</th>\n",
       "      <th>sample_name</th>\n",
       "      <th>transcription</th>\n",
       "      <th>keywords</th>\n",
       "    </tr>\n",
       "  </thead>\n",
       "  <tbody>\n",
       "    <tr>\n",
       "      <th>0</th>\n",
       "      <td>A 23-year-old white female presents with comp...</td>\n",
       "      <td>Allergy / Immunology</td>\n",
       "      <td>Allergic Rhinitis</td>\n",
       "      <td>SUBJECTIVE:,  This 23-year-old white female pr...</td>\n",
       "      <td>allergy / immunology, allergic rhinitis, aller...</td>\n",
       "    </tr>\n",
       "    <tr>\n",
       "      <th>1</th>\n",
       "      <td>Consult for laparoscopic gastric bypass.</td>\n",
       "      <td>Bariatrics</td>\n",
       "      <td>Laparoscopic Gastric Bypass Consult - 2</td>\n",
       "      <td>PAST MEDICAL HISTORY:, He has difficulty climb...</td>\n",
       "      <td>bariatrics, laparoscopic gastric bypass, weigh...</td>\n",
       "    </tr>\n",
       "    <tr>\n",
       "      <th>2</th>\n",
       "      <td>Consult for laparoscopic gastric bypass.</td>\n",
       "      <td>Bariatrics</td>\n",
       "      <td>Laparoscopic Gastric Bypass Consult - 1</td>\n",
       "      <td>HISTORY OF PRESENT ILLNESS: , I have seen ABC ...</td>\n",
       "      <td>bariatrics, laparoscopic gastric bypass, heart...</td>\n",
       "    </tr>\n",
       "    <tr>\n",
       "      <th>3</th>\n",
       "      <td>2-D M-Mode. Doppler.</td>\n",
       "      <td>Cardiovascular / Pulmonary</td>\n",
       "      <td>2-D Echocardiogram - 1</td>\n",
       "      <td>2-D M-MODE: , ,1.  Left atrial enlargement wit...</td>\n",
       "      <td>cardiovascular / pulmonary, 2-d m-mode, dopple...</td>\n",
       "    </tr>\n",
       "    <tr>\n",
       "      <th>4</th>\n",
       "      <td>2-D Echocardiogram</td>\n",
       "      <td>Cardiovascular / Pulmonary</td>\n",
       "      <td>2-D Echocardiogram - 2</td>\n",
       "      <td>1.  The left ventricular cavity size and wall ...</td>\n",
       "      <td>cardiovascular / pulmonary, 2-d, doppler, echo...</td>\n",
       "    </tr>\n",
       "    <tr>\n",
       "      <th>5</th>\n",
       "      <td>Morbid obesity.  Laparoscopic antecolic anteg...</td>\n",
       "      <td>Bariatrics</td>\n",
       "      <td>Laparoscopic Gastric Bypass</td>\n",
       "      <td>PREOPERATIVE DIAGNOSIS: , Morbid obesity.,POST...</td>\n",
       "      <td>bariatrics, gastric bypass, eea anastomosis, r...</td>\n",
       "    </tr>\n",
       "    <tr>\n",
       "      <th>6</th>\n",
       "      <td>Liposuction of the supraumbilical abdomen, re...</td>\n",
       "      <td>Bariatrics</td>\n",
       "      <td>Liposuction</td>\n",
       "      <td>PREOPERATIVE DIAGNOSES:,1.  Deformity, right b...</td>\n",
       "      <td>bariatrics, breast reconstruction, excess, lma...</td>\n",
       "    </tr>\n",
       "    <tr>\n",
       "      <th>7</th>\n",
       "      <td>2-D Echocardiogram</td>\n",
       "      <td>Cardiovascular / Pulmonary</td>\n",
       "      <td>2-D Echocardiogram - 3</td>\n",
       "      <td>2-D ECHOCARDIOGRAM,Multiple views of the heart...</td>\n",
       "      <td>cardiovascular / pulmonary, 2-d echocardiogram...</td>\n",
       "    </tr>\n",
       "    <tr>\n",
       "      <th>8</th>\n",
       "      <td>Suction-assisted lipectomy - lipodystrophy of...</td>\n",
       "      <td>Bariatrics</td>\n",
       "      <td>Lipectomy - Abdomen/Thighs</td>\n",
       "      <td>PREOPERATIVE DIAGNOSIS: , Lipodystrophy of the...</td>\n",
       "      <td>bariatrics, lipodystrophy, abd pads, suction-a...</td>\n",
       "    </tr>\n",
       "    <tr>\n",
       "      <th>9</th>\n",
       "      <td>Echocardiogram and Doppler</td>\n",
       "      <td>Cardiovascular / Pulmonary</td>\n",
       "      <td>2-D Echocardiogram - 4</td>\n",
       "      <td>DESCRIPTION:,1.  Normal cardiac chambers size....</td>\n",
       "      <td>cardiovascular / pulmonary, ejection fraction,...</td>\n",
       "    </tr>\n",
       "  </tbody>\n",
       "</table>\n",
       "</div>"
      ],
      "text/plain": [
       "                                         description  \\\n",
       "0   A 23-year-old white female presents with comp...   \n",
       "1           Consult for laparoscopic gastric bypass.   \n",
       "2           Consult for laparoscopic gastric bypass.   \n",
       "3                             2-D M-Mode. Doppler.     \n",
       "4                                 2-D Echocardiogram   \n",
       "5   Morbid obesity.  Laparoscopic antecolic anteg...   \n",
       "6   Liposuction of the supraumbilical abdomen, re...   \n",
       "7                                 2-D Echocardiogram   \n",
       "8   Suction-assisted lipectomy - lipodystrophy of...   \n",
       "9                         Echocardiogram and Doppler   \n",
       "\n",
       "             medical_specialty                                sample_name  \\\n",
       "0         Allergy / Immunology                         Allergic Rhinitis    \n",
       "1                   Bariatrics   Laparoscopic Gastric Bypass Consult - 2    \n",
       "2                   Bariatrics   Laparoscopic Gastric Bypass Consult - 1    \n",
       "3   Cardiovascular / Pulmonary                    2-D Echocardiogram - 1    \n",
       "4   Cardiovascular / Pulmonary                    2-D Echocardiogram - 2    \n",
       "5                   Bariatrics               Laparoscopic Gastric Bypass    \n",
       "6                   Bariatrics                               Liposuction    \n",
       "7   Cardiovascular / Pulmonary                    2-D Echocardiogram - 3    \n",
       "8                   Bariatrics                Lipectomy - Abdomen/Thighs    \n",
       "9   Cardiovascular / Pulmonary                    2-D Echocardiogram - 4    \n",
       "\n",
       "                                       transcription  \\\n",
       "0  SUBJECTIVE:,  This 23-year-old white female pr...   \n",
       "1  PAST MEDICAL HISTORY:, He has difficulty climb...   \n",
       "2  HISTORY OF PRESENT ILLNESS: , I have seen ABC ...   \n",
       "3  2-D M-MODE: , ,1.  Left atrial enlargement wit...   \n",
       "4  1.  The left ventricular cavity size and wall ...   \n",
       "5  PREOPERATIVE DIAGNOSIS: , Morbid obesity.,POST...   \n",
       "6  PREOPERATIVE DIAGNOSES:,1.  Deformity, right b...   \n",
       "7  2-D ECHOCARDIOGRAM,Multiple views of the heart...   \n",
       "8  PREOPERATIVE DIAGNOSIS: , Lipodystrophy of the...   \n",
       "9  DESCRIPTION:,1.  Normal cardiac chambers size....   \n",
       "\n",
       "                                            keywords  \n",
       "0  allergy / immunology, allergic rhinitis, aller...  \n",
       "1  bariatrics, laparoscopic gastric bypass, weigh...  \n",
       "2  bariatrics, laparoscopic gastric bypass, heart...  \n",
       "3  cardiovascular / pulmonary, 2-d m-mode, dopple...  \n",
       "4  cardiovascular / pulmonary, 2-d, doppler, echo...  \n",
       "5  bariatrics, gastric bypass, eea anastomosis, r...  \n",
       "6  bariatrics, breast reconstruction, excess, lma...  \n",
       "7  cardiovascular / pulmonary, 2-d echocardiogram...  \n",
       "8  bariatrics, lipodystrophy, abd pads, suction-a...  \n",
       "9  cardiovascular / pulmonary, ejection fraction,...  "
      ]
     },
     "execution_count": 4,
     "metadata": {},
     "output_type": "execute_result"
    }
   ],
   "source": [
    "df = pd.read_csv('CLEANDATA/Clean_MT.csv', index_col=False)\n",
    "df.head(10)"
   ]
  },
  {
   "cell_type": "code",
   "execution_count": 5,
   "metadata": {},
   "outputs": [
    {
     "data": {
      "text/plain": [
       "' Liposuction of the supraumbilical abdomen, revision of right breast reconstruction, excision of soft tissue fullness of the lateral abdomen and flank.\\r\\n'"
      ]
     },
     "execution_count": 5,
     "metadata": {},
     "output_type": "execute_result"
    }
   ],
   "source": [
    "df['description'].iloc[6]"
   ]
  },
  {
   "cell_type": "markdown",
   "metadata": {},
   "source": [
    "' Liposuction of the supraumbilical abdomen, revision of right breast reconstruction, excision of soft tissue fullness of the lateral abdomen and flank.\\r\\n'"
   ]
  },
  {
   "cell_type": "code",
   "execution_count": 6,
   "metadata": {},
   "outputs": [
    {
     "data": {
      "text/plain": [
       "' Bariatrics'"
      ]
     },
     "execution_count": 6,
     "metadata": {},
     "output_type": "execute_result"
    }
   ],
   "source": [
    "df['medical_specialty'].iloc[6]"
   ]
  },
  {
   "cell_type": "code",
   "execution_count": 7,
   "metadata": {},
   "outputs": [
    {
     "data": {
      "text/plain": [
       "' Liposuction '"
      ]
     },
     "execution_count": 7,
     "metadata": {},
     "output_type": "execute_result"
    }
   ],
   "source": [
    "df['sample_name'].iloc[6]"
   ]
  },
  {
   "cell_type": "code",
   "execution_count": 8,
   "metadata": {},
   "outputs": [
    {
     "data": {
      "text/plain": [
       "'PREOPERATIVE DIAGNOSES:,1.  Deformity, right breast reconstruction.,2.  Excess soft tissue, anterior abdomen and flank.,3.  Lipodystrophy of the abdomen.,POSTOPERATIVE DIAGNOSES:,1.  Deformity, right breast reconstruction.,2.  Excess soft tissue, anterior abdomen and flank.,3.  Lipodystrophy of the abdomen.,PROCEDURES:,1.  Revision, right breast reconstruction.,2.  Excision, soft tissue fullness of the lateral abdomen and flank.,3.  Liposuction of the supraumbilical abdomen.,ANESTHESIA: , General.,INDICATION FOR OPERATION:,  The patient is a 31-year-old white female who previously has undergone latissimus dorsi flap and implant, breast reconstruction.  She now had lateralization of the implant with loss of medial fullness for which she desired correction.  It was felt that mobilization of the implant medially would provide the patient significant improvement and this was discussed with the patient at length.  The patient also had a small dog ear in the flank area on the right from the latissimus flap harvest, which was to be corrected.  She had also had liposuction of the periumbilical and infraumbilical abdomen with desire to have great improvement superiorly, was felt to be a candidate for such.  The above-noted procedure was discussed with the patient in detail.  The risks, benefits and potential complications were discussed.  She was marked in the upright position and then taken to the operating room for the above-noted procedure.,OPERATIVE PROCEDURE: , The patient was taken to the operating room and placed in the supine position.  Following adequate induction of general LMA anesthesia, the chest and abdomen was prepped and draped in the usual sterile fashion.  The supraumbilical abdomen was then injected with a solution of 5% lidocaine with epinephrine, as was the dog ear.  At this time, the superior central scar was then excised, dissection continued through the subcutaneous tissue, the underlying latissimus muscle until the capsule of the implant was reached.  This was then opened.  The implant was removed and placed on the back table in antibiotic solution.  Using Bovie cautery, the medial capsule was released and undermining was then performed with release of the muscle to the level of the proposed medial projection of the breast.  The inframammary fold medially was secured with 2-0 PDS suture to create greater takeoff point at this level which in the upright position and using a sizer produced a good form.  The lateral pocket was diminished by series of 2-0 PDS suture to provide medialization of the implant.  The implant was then placed back into the submuscular pocket with much improved positioning and medial fullness.  With this completed, the implant was again removed, antibiotic irrigation was performed.  A drain was placed and brought out through a separate inferior stab wound incision and hemostasis was confirmed.  The implant was then replaced and the wound was then closed in layers using 2-0 PDS running suture on the muscle and 3-0 Monocryl Dermabond subcuticular sutures.  The 2.5 cm dog ear was then excised into and including the subcutaneous tissue, even contouring was achieved and this was closed with two layers using 3-0 Monocryl suture.  Using a #3 cannula, a superior umbilical incision, liposuction was carried out into the supraumbilical abdomen, removing approximately 40 to 50 mL of fat with improved supraumbilical contours.  This was closed with 6-0 Prolene suture.  The patient was placed in a compressive garment after treating the incision with Dermabond, Steri-Strips and antibiotic ointment around the drain site and umbilicus.  A Kerlix dressing and a surgical bra was placed to the chest area.  A compressive garment was placed.  The patient was then aroused from anesthesia, extubated, and taken to the recovery room in stable condition.  Sponge, needle, lap, instrument counts were all correct.  The patient tolerated the procedure well.  There were no complications.  The estimated blood loss was approximately 25 mL.'"
      ]
     },
     "execution_count": 8,
     "metadata": {},
     "output_type": "execute_result"
    }
   ],
   "source": [
    "df['transcription'].iloc[6]"
   ]
  },
  {
   "cell_type": "markdown",
   "metadata": {},
   "source": [
    "'PREOPERATIVE DIAGNOSES:,1.  Deformity, right breast reconstruction.,2.  Excess soft tissue, anterior abdomen and flank.,3.  Lipodystrophy of the abdomen.,POSTOPERATIVE DIAGNOSES:,1.  Deformity, right breast reconstruction.,2.  Excess soft tissue, anterior abdomen and flank.,3.  Lipodystrophy of the abdomen.,PROCEDURES:,1.  Revision, right breast reconstruction.,2.  Excision, soft tissue fullness of the lateral abdomen and flank.,3.  Liposuction of the supraumbilical abdomen.,ANESTHESIA: , General.,INDICATION FOR OPERATION:,  The patient is a 31-year-old white female who previously has undergone latissimus dorsi flap and implant, breast reconstruction.  She now had lateralization of the implant with loss of medial fullness for which she desired correction.  It was felt that mobilization of the implant medially would provide the patient significant improvement and this was discussed with the patient at length.  The patient also had a small dog ear in the flank area on the right from the latissimus flap harvest, which was to be corrected.  She had also had liposuction of the periumbilical and infraumbilical abdomen with desire to have great improvement superiorly, was felt to be a candidate for such.  The above-noted procedure was discussed with the patient in detail.  The risks, benefits and potential complications were discussed.  She was marked in the upright position and then taken to the operating room for the above-noted procedure.,OPERATIVE PROCEDURE: , The patient was taken to the operating room and placed in the supine position.  Following adequate induction of general LMA anesthesia, the chest and abdomen was prepped and draped in the usual sterile fashion.  The supraumbilical abdomen was then injected with a solution of 5% lidocaine with epinephrine, as was the dog ear.  At this time, the superior central scar was then excised, dissection continued through the subcutaneous tissue, the underlying latissimus muscle until the capsule of the implant was reached.  This was then opened.  The implant was removed and placed on the back table in antibiotic solution.  Using Bovie cautery, the medial capsule was released and undermining was then performed with release of the muscle to the level of the proposed medial projection of the breast.  The inframammary fold medially was secured with 2-0 PDS suture to create greater takeoff point at this level which in the upright position and using a sizer produced a good form.  The lateral pocket was diminished by series of 2-0 PDS suture to provide medialization of the implant.  The implant was then placed back into the submuscular pocket with much improved positioning and medial fullness.  With this completed, the implant was again removed, antibiotic irrigation was performed.  A drain was placed and brought out through a separate inferior stab wound incision and hemostasis was confirmed.  The implant was then replaced and the wound was then closed in layers using 2-0 PDS running suture on the muscle and 3-0 Monocryl Dermabond subcuticular sutures.  The 2.5 cm dog ear was then excised into and including the subcutaneous tissue, even contouring was achieved and this was closed with two layers using 3-0 Monocryl suture.  Using a #3 cannula, a superior umbilical incision, liposuction was carried out into the supraumbilical abdomen, removing approximately 40 to 50 mL of fat with improved supraumbilical contours.  This was closed with 6-0 Prolene suture.  The patient was placed in a compressive garment after treating the incision with Dermabond, Steri-Strips and antibiotic ointment around the drain site and umbilicus.  A Kerlix dressing and a surgical bra was placed to the chest area.  A compressive garment was placed.  The patient was then aroused from anesthesia, extubated, and taken to the recovery room in stable condition.  Sponge, needle, lap, instrument counts were all correct.  The patient tolerated the procedure well.  There were no complications.  The estimated blood loss was approximately 25 mL.'"
   ]
  },
  {
   "cell_type": "code",
   "execution_count": 9,
   "metadata": {},
   "outputs": [
    {
     "data": {
      "text/plain": [
       "'bariatrics, breast reconstruction, excess, lma anesthesia, lipodystrophy, liposuction, abdomen, drain site, flank, latissimus dorsi flap, soft tissue, supraumbilical, surgical bra, supraumbilical abdomen, reconstruction, breast, tissue, implant,'"
      ]
     },
     "execution_count": 9,
     "metadata": {},
     "output_type": "execute_result"
    }
   ],
   "source": [
    "df['keywords'].iloc[6]"
   ]
  },
  {
   "cell_type": "markdown",
   "metadata": {},
   "source": [
    "'bariatrics, breast reconstruction, excess, lma anesthesia, lipodystrophy, liposuction, abdomen, drain site, flank, latissimus dorsi flap, soft tissue, supraumbilical, surgical bra, supraumbilical abdomen, reconstruction, breast, tissue, implant,'"
   ]
  },
  {
   "cell_type": "markdown",
   "metadata": {},
   "source": [
    "----------------"
   ]
  },
  {
   "cell_type": "code",
   "execution_count": 10,
   "metadata": {},
   "outputs": [
    {
     "data": {
      "text/plain": [
       "'PREOPERATIVE DIAGNOSES:,1.  Deformity, right breast reconstruction.,2.  Excess soft tissue, anterior abdomen and flank.,3.  Lipodystrophy of the abdomen.,POSTOPERATIVE DIAGNOSES:,1.  Deformity, right breast reconstruction.,2.  Excess soft tissue, anterior abdomen and flank.,3.  Lipodystrophy of the abdomen.,PROCEDURES:,1.  Revision, right breast reconstruction.,2.  Excision, soft tissue fullness of the lateral abdomen and flank.,3.  Liposuction of the supraumbilical abdomen.,ANESTHESIA: , General.,INDICATION FOR OPERATION:,  The patient is a 31-year-old white female who previously has undergone latissimus dorsi flap and implant, breast reconstruction.  She now had lateralization of the implant with loss of medial fullness for which she desired correction.  It was felt that mobilization of the implant medially would provide the patient significant improvement and this was discussed with the patient at length.  The patient also had a small dog ear in the flank area on the right from the latissimus flap harvest, which was to be corrected.  She had also had liposuction of the periumbilical and infraumbilical abdomen with desire to have great improvement superiorly, was felt to be a candidate for such.  The above-noted procedure was discussed with the patient in detail.  The risks, benefits and potential complications were discussed.  She was marked in the upright position and then taken to the operating room for the above-noted procedure.,OPERATIVE PROCEDURE: , The patient was taken to the operating room and placed in the supine position.  Following adequate induction of general LMA anesthesia, the chest and abdomen was prepped and draped in the usual sterile fashion.  The supraumbilical abdomen was then injected with a solution of 5% lidocaine with epinephrine, as was the dog ear.  At this time, the superior central scar was then excised, dissection continued through the subcutaneous tissue, the underlying latissimus muscle until the capsule of the implant was reached.  This was then opened.  The implant was removed and placed on the back table in antibiotic solution.  Using Bovie cautery, the medial capsule was released and undermining was then performed with release of the muscle to the level of the proposed medial projection of the breast.  The inframammary fold medially was secured with 2-0 PDS suture to create greater takeoff point at this level which in the upright position and using a sizer produced a good form.  The lateral pocket was diminished by series of 2-0 PDS suture to provide medialization of the implant.  The implant was then placed back into the submuscular pocket with much improved positioning and medial fullness.  With this completed, the implant was again removed, antibiotic irrigation was performed.  A drain was placed and brought out through a separate inferior stab wound incision and hemostasis was confirmed.  The implant was then replaced and the wound was then closed in layers using 2-0 PDS running suture on the muscle and 3-0 Monocryl Dermabond subcuticular sutures.  The 2.5 cm dog ear was then excised into and including the subcutaneous tissue, even contouring was achieved and this was closed with two layers using 3-0 Monocryl suture.  Using a #3 cannula, a superior umbilical incision, liposuction was carried out into the supraumbilical abdomen, removing approximately 40 to 50 mL of fat with improved supraumbilical contours.  This was closed with 6-0 Prolene suture.  The patient was placed in a compressive garment after treating the incision with Dermabond, Steri-Strips and antibiotic ointment around the drain site and umbilicus.  A Kerlix dressing and a surgical bra was placed to the chest area.  A compressive garment was placed.  The patient was then aroused from anesthesia, extubated, and taken to the recovery room in stable condition.  Sponge, needle, lap, instrument counts were all correct.  The patient tolerated the procedure well.  There were no complications.  The estimated blood loss was approximately 25 mL.'"
      ]
     },
     "execution_count": 10,
     "metadata": {},
     "output_type": "execute_result"
    }
   ],
   "source": [
    "sample_text = df['transcription'].iloc[6]\n",
    "sample_text"
   ]
  },
  {
   "cell_type": "code",
   "execution_count": 36,
   "metadata": {},
   "outputs": [],
   "source": [
    "def PreProcessText(text):\n",
    "    #lowercase\n",
    "    text = text.lower()\n",
    "    # Remove special characters and numbers using regex\n",
    "    text = re.sub(r'[^a-zA-Z\\s]', '', text)\n",
    "    doc = nlp(text)\n",
    "    # Convert to lowercase, lemmatize, remove stop words and punctuation\n",
    "    tokens = \" \".join([token.lemma_.lower() for token in doc if not token.is_stop and not token.is_punct])\n",
    "    \n",
    "    # Remove extra whitespace\n",
    "    tokens = re.sub(r'\\s+', ' ', tokens).strip()\n",
    "    return tokens  "
   ]
  },
  {
   "cell_type": "code",
   "execution_count": 37,
   "metadata": {},
   "outputs": [
    {
     "data": {
      "text/plain": [
       "'preoperative diagnose deformity right breast reconstruction excess soft tissue anterior abdoman flank lipodystrophy abdomenpostoperative diagnose deformity right breast reconstruction excess soft tissue anterior abdoman flank lipodystrophy abdomenprocedure revision right breast reconstruction excision soft tissue fullness lateral abdoman flank liposuction supraumbilical abdomenanesthesia generalindication operation patient yearold white female previously undergone latissimus dorsi flap implant breast reconstruction lateralization implant loss medial fullness desire correction feel mobilization implant medially provide patient significant improvement discuss patient length patient small dog ear flank area right latissimus flap harvest correct liposuction periumbilical infraumbilical abdoman desire great improvement superiorly feel candidate abovenoted procedure discuss patient detail risk benefit potential complication discuss mark upright position take operating room abovenote procedureoperative procedure patient take operating room place supine position follow adequate induction general lma anesthesia chest abdomen preppe drape usual sterile fashion supraumbilical abdoman inject solution lidocaine epinephrine dog ear time superior central scar excise dissection continue subcutaneous tissue underlying latissimus muscle capsule implant reach open implant remove place table antibiotic solution bovie cautery medial capsule release undermine perform release muscle level propose medial projection breast inframammary fold medially secure pds suture create great takeoff point level upright position sizer produce good form lateral pocket diminish series pds suture provide medialization implant implant place submuscular pocket improved positioning medial fullness complete implant remove antibiotic irrigation perform drain place bring separate inferior stab wound incision hemostasis confirm implant replace wound close layer pds running suture muscle monocryl dermabond subcuticular suture cm dog ear excise include subcutaneous tissue contouring achieve close layer monocryl suture cannula superior umbilical incision liposuction carry supraumbilical abdomen remove approximately ml fat improve supraumbilical contour close prolene suture patient place compressive garment treat incision dermabond steristrip antibiotic ointment drain site umbilicus kerlix dressing surgical bra place chest area compressive garment place patient arouse anesthesia extubate take recovery room stable condition sponge needle lap instrument count correct patient tolerate procedure complication estimate blood loss approximately ml'"
      ]
     },
     "execution_count": 37,
     "metadata": {},
     "output_type": "execute_result"
    }
   ],
   "source": [
    "PreProcessText(sample_text)"
   ]
  },
  {
   "cell_type": "markdown",
   "metadata": {},
   "source": [
    "-----------"
   ]
  },
  {
   "cell_type": "code",
   "execution_count": 38,
   "metadata": {},
   "outputs": [],
   "source": [
    "df = df[df['medical_specialty'].isin(df['medical_specialty'].value_counts()[df['medical_specialty'].value_counts() > 100].index)]"
   ]
  },
  {
   "cell_type": "code",
   "execution_count": 39,
   "metadata": {},
   "outputs": [
    {
     "data": {
      "text/plain": [
       "medical_specialty\n",
       " Surgery                          1021\n",
       " Orthopedic                        303\n",
       " Cardiovascular / Pulmonary        280\n",
       " Radiology                         251\n",
       " Consult - History and Phy.        234\n",
       " Gastroenterology                  195\n",
       " Neurology                         168\n",
       " General Medicine                  146\n",
       " SOAP / Chart / Progress Notes     142\n",
       " Urology                           140\n",
       " Obstetrics / Gynecology           130\n",
       "Name: count, dtype: int64"
      ]
     },
     "execution_count": 39,
     "metadata": {},
     "output_type": "execute_result"
    }
   ],
   "source": [
    "df['medical_specialty'].value_counts()"
   ]
  },
  {
   "cell_type": "code",
   "execution_count": 40,
   "metadata": {},
   "outputs": [],
   "source": [
    "# preprocess the transcription text\n",
    "df['transcription_p'] = df['transcription'].apply(PreProcessText)"
   ]
  },
  {
   "cell_type": "code",
   "execution_count": 41,
   "metadata": {},
   "outputs": [],
   "source": [
    "# define x and y\n",
    "X = df['transcription_p']\n",
    "y = df['medical_specialty']"
   ]
  },
  {
   "cell_type": "code",
   "execution_count": 43,
   "metadata": {},
   "outputs": [
    {
     "name": "stdout",
     "output_type": "stream",
     "text": [
      "Training set size: 2408\n",
      "Testing set size: 602\n"
     ]
    }
   ],
   "source": [
    "# split the data\n",
    "X_train, X_test, y_train, y_test = train_test_split(X, y, test_size=0.2, random_state=42)\n",
    "\n",
    "print(f\"Training set size: {len(X_train)}\")\n",
    "print(f\"Testing set size: {len(X_test)}\")"
   ]
  },
  {
   "cell_type": "markdown",
   "metadata": {},
   "source": [
    "---------"
   ]
  },
  {
   "cell_type": "code",
   "execution_count": 45,
   "metadata": {},
   "outputs": [],
   "source": [
    "# Define the vectorizer\n",
    "vectorizer = TfidfVectorizer(min_df=0.01, max_df=0.9)"
   ]
  },
  {
   "cell_type": "code",
   "execution_count": 46,
   "metadata": {},
   "outputs": [
    {
     "name": "stdout",
     "output_type": "stream",
     "text": [
      "TF-IDF matrix for training data: (2408, 2321)\n",
      "TF-IDF matrix for testing data: (602, 2321)\n"
     ]
    }
   ],
   "source": [
    "# Fit the vectorizer on the training data\n",
    "X_train_tfidf = vectorizer.fit_transform(X_train)\n",
    "\n",
    "# Transform the testing data\n",
    "X_test_tfidf = vectorizer.transform(X_test)\n",
    "\n",
    "print(f\"TF-IDF matrix for training data: {X_train_tfidf.shape}\")\n",
    "print(f\"TF-IDF matrix for testing data: {X_test_tfidf.shape}\")"
   ]
  },
  {
   "cell_type": "code",
   "execution_count": 48,
   "metadata": {},
   "outputs": [
    {
     "name": "stdout",
     "output_type": "stream",
     "text": [
      "Original training set size: (2408, 2321)\n",
      "Resampled training set size: (8855, 2321)\n"
     ]
    }
   ],
   "source": [
    "# Define the SMOTE object\n",
    "smote = SMOTE(random_state=42)\n",
    "\n",
    "# Apply SMOTE to the training data\n",
    "X_train_resampled, y_train_resampled = smote.fit_resample(X_train_tfidf, y_train)\n",
    "\n",
    "print(f\"Original training set size: {X_train_tfidf.shape}\")\n",
    "print(f\"Resampled training set size: {X_train_resampled.shape}\")"
   ]
  },
  {
   "cell_type": "code",
   "execution_count": 50,
   "metadata": {},
   "outputs": [],
   "source": [
    "# Define the classifier\n",
    "nb_classifier = MultinomialNB()"
   ]
  },
  {
   "cell_type": "code",
   "execution_count": 52,
   "metadata": {},
   "outputs": [
    {
     "name": "stdout",
     "output_type": "stream",
     "text": [
      "Naive Bayes Accuracy: 0.45182724252491696\n",
      "Naive Bayes Classification Report:\n",
      "                                precision    recall  f1-score   support\n",
      "\n",
      "    Cardiovascular / Pulmonary       0.49      0.56      0.52        63\n",
      "    Consult - History and Phy.       0.38      0.45      0.41        38\n",
      "              Gastroenterology       0.47      0.67      0.55        42\n",
      "              General Medicine       0.33      0.39      0.36        33\n",
      "                     Neurology       0.52      0.49      0.50        35\n",
      "       Obstetrics / Gynecology       0.33      0.64      0.43        22\n",
      "                    Orthopedic       0.39      0.75      0.51        52\n",
      "                     Radiology       0.26      0.24      0.25        38\n",
      " SOAP / Chart / Progress Notes       0.36      0.50      0.42        32\n",
      "                       Surgery       0.76      0.28      0.41       216\n",
      "                       Urology       0.46      0.77      0.58        31\n",
      "\n",
      "                      accuracy                           0.45       602\n",
      "                     macro avg       0.43      0.52      0.45       602\n",
      "                  weighted avg       0.53      0.45      0.44       602\n",
      "\n"
     ]
    }
   ],
   "source": [
    "# Train the classifier\n",
    "nb_classifier.fit(X_train_resampled, y_train_resampled)\n",
    "\n",
    "# Predict on the test set\n",
    "y_pred_nb = nb_classifier.predict(X_test_tfidf)\n",
    "\n",
    "# Evaluate the classifier\n",
    "accuracy_nb = accuracy_score(y_test, y_pred_nb)\n",
    "report_nb = classification_report(y_test, y_pred_nb)\n",
    "\n",
    "print(f\"Naive Bayes Accuracy: {accuracy_nb}\")\n",
    "print(f\"Naive Bayes Classification Report:\\n{report_nb}\")"
   ]
  },
  {
   "cell_type": "code",
   "execution_count": 54,
   "metadata": {},
   "outputs": [
    {
     "data": {
      "image/png": "[encoded data removed]",
      "text/plain": [
       "<Figure size 1000x700 with 2 Axes>"
      ]
     },
     "metadata": {},
     "output_type": "display_data"
    }
   ],
   "source": [
    "# confusion matrix\n",
    "cm = confusion_matrix(y_test, y_pred_nb)\n",
    "\n",
    "plt.figure(figsize=(10, 7))\n",
    "sns.heatmap(cm, annot=True, fmt='d', cmap='Blues')\n",
    "plt.xlabel('Predicted labels')\n",
    "plt.ylabel('True labels')\n",
    "plt.show()"
   ]
  }
 ],
 "metadata": {
  "kernelspec": {
   "display_name": "capstoneEnv",
   "language": "python",
   "name": "python3"
  },
  "language_info": {
   "codemirror_mode": {
    "name": "ipython",
    "version": 3
   },
   "file_extension": ".py",
   "mimetype": "text/x-python",
   "name": "python",
   "nbconvert_exporter": "python",
   "pygments_lexer": "ipython3",
   "version": "3.8.20"
  }
 },
 "nbformat": 4,
 "nbformat_minor": 2
}
